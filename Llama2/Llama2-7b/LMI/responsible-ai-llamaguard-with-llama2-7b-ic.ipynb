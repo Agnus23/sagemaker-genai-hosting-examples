{
 "cells": [
  {
   "cell_type": "markdown",
   "id": "71a329f0",
   "metadata": {},
   "source": [
    "# Enforce Responsible AI with a safety guard model LlamaGuard and Llama2-7b on the same Amazon SageMaker using Inference Components for cost effective and safe deployment\n",
    "\n",
    "## Resources\n",
    "- [LLamaGuard model card](https://huggingface.co/meta-llama/LlamaGuard-7b): Llama-Guard is a 7B parameter Llama 2-based input-output safeguard model. It can be used for classifying content in both LLM inputs (prompt classification) and in LLM responses (response classification).\n",
    "- [Llama 2: Open Foundation and Fine-Tuned Chat Models](https://arxiv.org/pdf/2307.09288.pdf)\n",
    "- [Sagemaker Inference Component Concepts - 4 min Youtube Video](https://youtu.be/6xENDvgnMCs?t=1230): With Inference Components you can deploy one or more foundation models (FMs) on the same SageMaker endpoint and control how many accelerators and how much memory is reserved for each FM. This helps save costs as your requirements scale.\n",
    "\n",
    "#### Pre-requisites\n",
    "- Please ensure you have enough Quota for 2 sagemaker g5.12xlarge instance types. Use DeepLink [here](https://us-east-1.console.aws.amazon.com/servicequotas/home/services/sagemaker/quotas/L-65C4BD00). Switch to the appropriate region."
   ]
  },
  {
   "cell_type": "markdown",
   "id": "d2e34944-ba9e-4294-9253-e3cc4c384616",
   "metadata": {
    "tags": []
   },
   "source": [
    "# License agreement\n",
    " - View license information https://huggingface.co/meta-llama before using the models in this notebook.\n",
    " - This notebook is a sample notebook and not intended for production use. Please refer to the licence at https://github.com/aws/mit-0. "
   ]
  },
  {
   "cell_type": "markdown",
   "id": "8974eee7-cc31-4dac-8795-aec6b8765051",
   "metadata": {},
   "source": [
    "## Step 1: Setup"
   ]
  },
  {
   "cell_type": "code",
   "execution_count": null,
   "id": "67fa3208",
   "metadata": {
    "tags": []
   },
   "outputs": [],
   "source": [
    "%pip install --quiet boto3==1.33.9 sagemaker==2.214.3 "
   ]
  },
  {
   "cell_type": "code",
   "execution_count": null,
   "id": "ec9ac353",
   "metadata": {
    "tags": []
   },
   "outputs": [],
   "source": [
    "import sagemaker\n",
    "import boto3\n",
    "import pickle\n",
    "import json\n",
    "import pprint\n",
    "import os\n",
    "print(f\"boto3 version: {boto3.__version__}\")\n",
    "print(f\"sagemaker version: {sagemaker.__version__}\")"
   ]
  },
  {
   "cell_type": "code",
   "execution_count": null,
   "id": "94eba2f6-e1b6-41c6-94d1-2b2bfbe3308b",
   "metadata": {
    "tags": []
   },
   "outputs": [],
   "source": [
    "try: \n",
    "    # If running on a sagemaker notebook\n",
    "    role = sagemaker.get_execution_role()  # execution role for the endpoint\n",
    "    sess = sagemaker.session.Session()  # sagemaker session for interacting with different AWS APIs\n",
    "    bucket = sess.default_bucket()  # bucket to house artifacts\n",
    "    region = sess._region_name\n",
    "except:\n",
    "    # If running outside of sagemaker notebooks\n",
    "    # Ignore Error \"Couldn't call 'get_role' to get Role ARN from role name to get Role path.\"\n",
    "    role = os.getenv(\"EXECUTION_ROLE_ARN\") #Add your role\n",
    "    sess = sagemaker.session.Session()\n",
    "    bucket = os.getenv(\"BUCKET\") # Add an appropriate bucket that the role above has persmissions to\n",
    "    region = sess._region_name\n",
    "    \n",
    "sm_client = boto3.client(\"sagemaker\")\n",
    "smr_client= boto3.client(\"sagemaker-runtime\")\n",
    "cloudwatch_client = boto3.client(\"cloudwatch\")"
   ]
  },
  {
   "cell_type": "markdown",
   "id": "2e58cf33",
   "metadata": {},
   "source": [
    "## Step 2: Create a model, endpoint configuration and endpoint"
   ]
  },
  {
   "cell_type": "markdown",
   "id": "6dbef0bb-14ce-47e9-b99f-7cdd4afe7f7c",
   "metadata": {},
   "source": [
    "Retrieve the ECR image URI for the LMI container that has large language model framework already implemented (in this case, vLLM. The image URI is looked up based on the framework name, AWS region, and framework version. This allows us to dynamically select the right Docker image for our environment.\n",
    "\n",
    "Functions for generating ECR image URIs for pre-built SageMaker Docker images. See [available Large Model Inference DLC's here](https://github.com/aws/deep-learning-containers/blob/master/available_images.md#large-model-inference-containers)"
   ]
  },
  {
   "cell_type": "code",
   "execution_count": null,
   "id": "7a174b36",
   "metadata": {
    "tags": []
   },
   "outputs": [],
   "source": [
    "version = \"0.27.0\"\n",
    "inference_image_uri = sagemaker.image_uris.retrieve(\n",
    "    \"djl-deepspeed\", region=region, version=version\n",
    ")\n",
    "print(f\"Image going to be used is ----> {inference_image_uri}\")"
   ]
  },
  {
   "cell_type": "code",
   "execution_count": null,
   "id": "c37a01f7-3e15-4cf0-958f-ea2eb0176bbf",
   "metadata": {
    "tags": []
   },
   "outputs": [],
   "source": [
    "model_name_guard_llm = sagemaker.utils.name_from_base(\"LlamaGuard-7B-AWQ\")"
   ]
  },
  {
   "cell_type": "code",
   "execution_count": null,
   "id": "744e3bc2-3f01-4820-aa0f-f1a72ea87bd6",
   "metadata": {
    "tags": []
   },
   "outputs": [],
   "source": [
    "print(model_name_guard_llm)"
   ]
  },
  {
   "cell_type": "code",
   "execution_count": null,
   "id": "66472473-8b8f-4db4-996c-e7de9487b100",
   "metadata": {
    "tags": []
   },
   "outputs": [],
   "source": [
    "env_guardllm = {\n",
    "    \"HUGGINGFACE_HUB_CACHE\": \"/tmp\",\n",
    "    \"TRANSFORMERS_CACHE\": \"/tmp\",\n",
    "    \"SERVING_LOAD_MODELS\": \"test::Python=/opt/ml/model\",\n",
    "    \"OPTION_MODEL_ID\": \"TheBloke/LlamaGuard-7B-AWQ\",\n",
    "    \"OPTION_ROLLING_BATCH\": \"vllm\",\n",
    "#    \"OPTION_TENSOR_PARALLEL_DEGREE\": \"max\",\n",
    "    \"OPTION_TENSOR_PARALLEL_DEGREE\": \"1\",\n",
    "    \"OPTION_MAX_ROLLING_BATCH_SIZE\": \"32\",\n",
    "    \"OPTION_QUANTIZE\": \"awq\",\n",
    "    \"OPTION_DTYPE\": \"auto\",\n",
    "}\n",
    "\n",
    "create_model_response = sm_client.create_model(\n",
    "    ModelName = model_name_guard_llm,\n",
    "    ExecutionRoleArn = role,\n",
    "    PrimaryContainer = {\n",
    "        \"Image\": inference_image_uri, \n",
    "        \"Environment\": env_guardllm,\n",
    "    },\n",
    ")\n",
    "model_arn = create_model_response[\"ModelArn\"]\n",
    "\n",
    "print(f\"Created Model for Safety LLM: {model_arn}\")"
   ]
  },
  {
   "cell_type": "code",
   "execution_count": null,
   "id": "65b207f8-1f87-4049-a516-458e92845ab7",
   "metadata": {
    "tags": []
   },
   "outputs": [],
   "source": [
    "model_name_main_llm = sagemaker.utils.name_from_base(\"Llama2-7B-main-llm\")"
   ]
  },
  {
   "cell_type": "code",
   "execution_count": null,
   "id": "66610e62-3186-4b3f-afbe-293015e2381a",
   "metadata": {},
   "outputs": [],
   "source": [
    "print(model_name_main_llm)"
   ]
  },
  {
   "cell_type": "code",
   "execution_count": null,
   "id": "1a29c575-a2c2-487b-8ccc-32bba3aa9a7e",
   "metadata": {
    "tags": []
   },
   "outputs": [],
   "source": [
    "env_mainllm = {\"HUGGINGFACE_HUB_CACHE\": \"/tmp\",\n",
    "                  \"TRANSFORMERS_CACHE\": \"/tmp\",\n",
    "                  \"SERVING_LOAD_MODELS\": \"test::Python=/opt/ml/model\",\n",
    "                  \"OPTION_MODEL_ID\": \"TheBloke/Llama-2-7B-Chat-fp16\",\n",
    "                  \"OPTION_TRUST_REMOTE_CODE\": \"true\",\n",
    "                  \"OPTION_TENSOR_PARALLEL_DEGREE\": \"max\",\n",
    "                  \"OPTION_ROLLING_BATCH\": \"vllm\",\n",
    "                  \"OPTION_MAX_ROLLING_BATCH_SIZE\": \"32\",\n",
    "                  \"OPTION_DTYPE\":\"fp16\"\n",
    "                 }\n",
    "\n",
    "create_model_response = sm_client.create_model(\n",
    "    ModelName = model_name_main_llm,\n",
    "    ExecutionRoleArn = role,\n",
    "    PrimaryContainer = {\n",
    "        \"Image\": inference_image_uri, \n",
    "        \"Environment\": env_mainllm,\n",
    "    },\n",
    ")\n",
    "model_arn = create_model_response[\"ModelArn\"]\n",
    "\n",
    "print(f\"Created Model for main LLM: {model_arn}\")"
   ]
  },
  {
   "cell_type": "markdown",
   "id": "88456f4c-0336-4b69-b015-4c220520edfb",
   "metadata": {},
   "source": [
    "These two cells below deploy the model to a SageMaker endpoint for real-time inference. The instance_type defines the machine instance for the endpoint. The endpoint name is programmatically generated based on the base name. The model is deployed with a large container startup timeout specified, as the  model takes time to initialize on the GPU instance."
   ]
  },
  {
   "cell_type": "code",
   "execution_count": null,
   "id": "0499885a-e95f-4342-88cc-450ca076dc8a",
   "metadata": {
    "tags": []
   },
   "outputs": [],
   "source": [
    "endpoint_name = sagemaker.utils.name_from_base(\"my-safe-endpoint\")\n",
    "endpoint_config_name = f\"{endpoint_name}-config\""
   ]
  },
  {
   "cell_type": "code",
   "execution_count": null,
   "id": "9c54fed9-c7fb-400d-85b1-73243731462e",
   "metadata": {
    "tags": []
   },
   "outputs": [],
   "source": [
    "# Set varient name and instance type for hosting\n",
    "variant_name = \"AllTraffic\"\n",
    "instance_type = \"ml.g5.12xlarge\"\n",
    "model_data_download_timeout_in_seconds = 1200\n",
    "container_startup_health_check_timeout_in_seconds = 1200\n",
    "\n",
    "initial_instance_count = 1\n",
    "max_instance_count = 1 # will use for managed instance scaling later\n",
    "print(f\"Initial instance count: {initial_instance_count}\")\n",
    "print(f\"Max instance count: {max_instance_count}\")"
   ]
  },
  {
   "cell_type": "code",
   "execution_count": null,
   "id": "65d67461-7753-4c92-8179-88c47cd11120",
   "metadata": {
    "tags": []
   },
   "outputs": [],
   "source": [
    "sm_client.create_endpoint_config(\n",
    "    EndpointConfigName = endpoint_config_name,\n",
    "    ExecutionRoleArn = role,\n",
    "    ProductionVariants = [\n",
    "        {\n",
    "            \"VariantName\": variant_name,\n",
    "            # Notice we do not yet specify the model name at this stage because we want to optimize with Inference Components later. \n",
    "            # For now just deploy the endpoint with the endpoint config \n",
    "            # \"ModelName\": model_name, \n",
    "            \"InstanceType\": instance_type,\n",
    "            \"InitialInstanceCount\": initial_instance_count,\n",
    "            \"ModelDataDownloadTimeoutInSeconds\": model_data_download_timeout_in_seconds,\n",
    "            \"ContainerStartupHealthCheckTimeoutInSeconds\": container_startup_health_check_timeout_in_seconds,\n",
    "            \"ManagedInstanceScaling\": {\n",
    "                \"Status\": \"ENABLED\",\n",
    "                \"MinInstanceCount\": initial_instance_count,\n",
    "                \"MaxInstanceCount\": max_instance_count,\n",
    "            },\n",
    "            \"RoutingConfig\": {\"RoutingStrategy\": \"LEAST_OUTSTANDING_REQUESTS\"},\n",
    "        }\n",
    "    ]\n",
    ")"
   ]
  },
  {
   "cell_type": "code",
   "execution_count": null,
   "id": "e5ecb90b-4443-4e35-bea2-a6bc77e3f193",
   "metadata": {
    "tags": []
   },
   "outputs": [],
   "source": [
    "# Endpoint name alerady created earlier\n",
    "# endpoint_name = sagemaker.utils.name_from_base(\"my-safe-endpoint\")\n",
    "print(endpoint_name)"
   ]
  },
  {
   "cell_type": "code",
   "execution_count": null,
   "id": "d2e0a6c8-a1dc-4e4d-81a8-526c723231dd",
   "metadata": {
    "tags": []
   },
   "outputs": [],
   "source": [
    "create_endpoint_response = sm_client.create_endpoint(\n",
    "    EndpointName = endpoint_name, EndpointConfigName = endpoint_config_name\n",
    ")\n",
    "print(f\"Created Endpoint: {create_endpoint_response['EndpointArn']}\")"
   ]
  },
  {
   "cell_type": "markdown",
   "id": "079b56f3-ba5a-4423-ba75-bdc40f597ba6",
   "metadata": {},
   "source": [
    "### This step can take ~ 10 min or longer so please be patient"
   ]
  },
  {
   "cell_type": "code",
   "execution_count": null,
   "id": "d993dd7b-792e-4992-add7-8d3d49492cbe",
   "metadata": {
    "tags": []
   },
   "outputs": [],
   "source": [
    "#\n",
    "# Using helper function to wait for the endpoint to be ready\n",
    "#\n",
    "sess.wait_for_endpoint(endpoint_name)"
   ]
  },
  {
   "cell_type": "code",
   "execution_count": null,
   "id": "0f9760ae-b91b-4b17-9031-d99a2b978be8",
   "metadata": {
    "tags": []
   },
   "outputs": [],
   "source": [
    "print(model_name_guard_llm)\n",
    "print(model_name_main_llm)"
   ]
  },
  {
   "cell_type": "code",
   "execution_count": null,
   "id": "bfbf6932-735f-435b-95e2-c7c28e9e8a4c",
   "metadata": {
    "tags": []
   },
   "outputs": [],
   "source": [
    "inference_component_name_guard_llm = f\"{model_name_guard_llm}-ic\""
   ]
  },
  {
   "cell_type": "code",
   "execution_count": null,
   "id": "19ef3f22-30e7-4c78-b5b8-49087655db24",
   "metadata": {
    "tags": []
   },
   "outputs": [],
   "source": [
    "inference_component_name_main_llm = f\"{model_name_main_llm}-ic\""
   ]
  },
  {
   "cell_type": "code",
   "execution_count": null,
   "id": "6e5a42bb-4ff5-4e4c-88a4-ea2d308a951d",
   "metadata": {
    "tags": []
   },
   "outputs": [],
   "source": [
    "print(f\"Test inference component name: {inference_component_name_guard_llm}\")\n",
    "\n",
    "initial_copy_count = 1\n",
    "max_copy_count_per_instance = 4  # will use later for autoscaling\n",
    "\n",
    "variant_name = \"AllTraffic\"\n",
    "\n",
    "min_memory_required_in_mb = 1024 \n",
    "number_of_accelerator_devices_required = 1"
   ]
  },
  {
   "cell_type": "code",
   "execution_count": null,
   "id": "ca7c1c01-cdca-46ab-b19c-3e78e379cf35",
   "metadata": {
    "tags": []
   },
   "outputs": [],
   "source": [
    "# API Documentation here: https://docs.aws.amazon.com/sagemaker/latest/APIReference/API_CreateInferenceComponent.html#sagemaker-CreateInferenceComponent-request-Specification\n",
    "sm_client.create_inference_component(\n",
    "    InferenceComponentName = inference_component_name_guard_llm,\n",
    "    EndpointName = endpoint_name,\n",
    "    VariantName = variant_name,\n",
    "    Specification={\n",
    "        \"ModelName\": model_name_guard_llm,\n",
    "        \"StartupParameters\": {\n",
    "            \"ModelDataDownloadTimeoutInSeconds\": model_data_download_timeout_in_seconds,\n",
    "            \"ContainerStartupHealthCheckTimeoutInSeconds\": container_startup_health_check_timeout_in_seconds,\n",
    "        },\n",
    "        \"ComputeResourceRequirements\": {\n",
    "            \"MinMemoryRequiredInMb\": min_memory_required_in_mb,\n",
    "            \"NumberOfAcceleratorDevicesRequired\": number_of_accelerator_devices_required,\n",
    "            # \"NumberOfCpuCoresRequired\": 1, \n",
    "        },\n",
    "    },\n",
    "    RuntimeConfig={\n",
    "        \"CopyCount\": initial_copy_count,\n",
    "    },\n",
    "    Tags=[\n",
    "        {\n",
    "            'Key': 'billing_team',\n",
    "            'Value': 'Team_A'\n",
    "        },\n",
    "    ]\n",
    ")"
   ]
  },
  {
   "cell_type": "code",
   "execution_count": null,
   "id": "7be7ce01-781b-4b2b-94c7-205895b56c28",
   "metadata": {
    "tags": []
   },
   "outputs": [],
   "source": [
    "print(f\"Test inference component name: {inference_component_name_main_llm}\")\n",
    "\n",
    "initial_copy_count = 1\n",
    "max_copy_count_per_instance = 4  # will use later for autoscaling\n",
    "\n",
    "variant_name = \"AllTraffic\"\n",
    "\n",
    "min_memory_required_in_mb = 1024 \n",
    "number_of_accelerator_devices_required = 1"
   ]
  },
  {
   "cell_type": "code",
   "execution_count": null,
   "id": "bc67adbf-7609-4d26-b897-3e3ea973ee37",
   "metadata": {
    "tags": []
   },
   "outputs": [],
   "source": [
    "# API Documentation here: https://docs.aws.amazon.com/sagemaker/latest/APIReference/API_CreateInferenceComponent.html#sagemaker-CreateInferenceComponent-request-Specification\n",
    "sm_client.create_inference_component(\n",
    "    InferenceComponentName = inference_component_name_main_llm,\n",
    "    EndpointName = endpoint_name,\n",
    "    VariantName = variant_name,\n",
    "    Specification={\n",
    "        \"ModelName\": model_name_main_llm,\n",
    "        \"StartupParameters\": {\n",
    "            \"ModelDataDownloadTimeoutInSeconds\": model_data_download_timeout_in_seconds,\n",
    "            \"ContainerStartupHealthCheckTimeoutInSeconds\": container_startup_health_check_timeout_in_seconds,\n",
    "        },\n",
    "        \"ComputeResourceRequirements\": {\n",
    "            \"MinMemoryRequiredInMb\": min_memory_required_in_mb,\n",
    "            \"NumberOfAcceleratorDevicesRequired\": number_of_accelerator_devices_required,\n",
    "            # \"NumberOfCpuCoresRequired\": 1, \n",
    "        },\n",
    "    },\n",
    "    RuntimeConfig={\n",
    "        \"CopyCount\": initial_copy_count,\n",
    "    },\n",
    "    Tags=[\n",
    "        {\n",
    "            'Key': 'billing_team',\n",
    "            'Value': 'Team_A'\n",
    "        },\n",
    "    ]\n",
    ")"
   ]
  },
  {
   "cell_type": "markdown",
   "id": "c7f32dda-db04-459c-97af-010f214473d0",
   "metadata": {},
   "source": [
    "### This step can take ~ 10 min or longer so please be patient"
   ]
  },
  {
   "cell_type": "code",
   "execution_count": null,
   "id": "318969f4-ee22-421a-91bc-60db8975ae10",
   "metadata": {
    "tags": []
   },
   "outputs": [],
   "source": [
    "sess.wait_for_inference_component(inference_component_name_main_llm)"
   ]
  },
  {
   "cell_type": "code",
   "execution_count": null,
   "id": "73fcb10a-58d8-4ac9-8d07-7db835fcf7da",
   "metadata": {
    "tags": []
   },
   "outputs": [],
   "source": [
    "sess.wait_for_inference_component(inference_component_name_guard_llm)"
   ]
  },
  {
   "cell_type": "code",
   "execution_count": null,
   "id": "fa73fe1f-4039-4bdc-9421-c9cad8996327",
   "metadata": {
    "tags": []
   },
   "outputs": [],
   "source": [
    "#sanity check\n",
    "sm_client.list_inference_components(EndpointNameEquals=endpoint_name)\n",
    "#sess.list_inference_components(endpoint_name) \n",
    "#sm_client.describe_inference_component(InferenceComponentName=inference_component_name_main_llm)\n",
    "#sm_client.describe_inference_component(InferenceComponentName=inference_component_name_guard_llm)\n",
    "# docs: https://boto3.amazonaws.com/v1/documentation/api/latest/reference/services/sagemaker/client/describe_inference_component.html\n",
    "# docs using sagemaker SDK: https://github.com/philschmid/llm-sagemaker-sample/blob/main/notebooks/multi-replica-inference-example.ipynb"
   ]
  },
  {
   "cell_type": "code",
   "execution_count": null,
   "id": "af21a370-bef4-4087-957d-59b3232dabff",
   "metadata": {
    "tags": []
   },
   "outputs": [],
   "source": [
    "#sanity check\n",
    "# sm_client.describe_inference_component(InferenceComponentName=inference_component_name_main_llm)\n",
    "# sm_client.describe_inference_component(InferenceComponentName=inference_component_name_guard_llm)"
   ]
  },
  {
   "cell_type": "markdown",
   "id": "459597bc-1204-4370-99a8-4a2cdc300e1b",
   "metadata": {
    "tags": []
   },
   "source": [
    "## Step 3: Invoke the Endpoint by first checking if the input is safe using the llamaguard inference component"
   ]
  },
  {
   "cell_type": "markdown",
   "id": "f632105c-7222-4b7d-a40b-8e1416fffd2c",
   "metadata": {},
   "source": [
    "Special thanks to this example for providing this sample: https://github.com/aws/amazon-sagemaker-examples/blob/7104c854ff8130ef0a1e6c9d6b39cc9dd299eaf7/introduction_to_amazon_algorithms/jumpstart-foundation-models/llama-guard-text-moderation.ipynb#L62"
   ]
  },
  {
   "cell_type": "code",
   "execution_count": null,
   "id": "72eb92f2-ccc0-41e8-8690-eafaa4300c8a",
   "metadata": {
    "tags": []
   },
   "outputs": [],
   "source": [
    "TASK = \"Task: Check if there is unsafe content in 'Agent' messages in conversations according our safety policy with the below categories.\"\n",
    "\n",
    "INSTRUCTION = \"\"\"\\\n",
    "Provide your safety assessment for Agent in the above conversation:\n",
    "- First line must read 'safe' or 'unsafe'.\n",
    "- If unsafe, a second line must include a comma-separated list of violated categories.\"\"\"\n",
    "\n",
    "UNSAFE_CONTENT_CATEGORIES = \"\"\"\\\n",
    "O1: Violence and Hate. \n",
    "Should not\n",
    "- Help people plan or engage in violence.\n",
    "- Encourage people to engage in violence.\n",
    "- Express hateful, derogatory, or demeaning sentiments against people based on sensitive personal characteristics like their race, color, religion, national origin, sexual orientation, gender, gender identity, or disability.\n",
    "- Encourage discrimination against people based on those characteristics and should not use slurs or create insults based on those characteristics.\n",
    "Can\n",
    "- Provide information on violence and discrimination.\n",
    "- Discuss the topics of hate and violence, and can discuss historical events involving violence.\n",
    "O2: Sexual Content.\n",
    "Should not\n",
    "- Engage in sexually explicit (i.e., erotic) conversations and should not encourage people to engage in sexual activities.\n",
    "Can\n",
    "- Discuss topics related to sexuality and sexual education.\n",
    "- Provide general information regarding sexual activities.\n",
    "- Provide guidance on topics related to sexual health.\n",
    "O3: Criminal Planning.\n",
    "Should not\n",
    "- Help people plan or engage in criminal activities like theft, kidnapping, or financial crimes, especially when the person indicates that they may act on the information provided to them.\n",
    "- Encourage people to engage in criminal activities or condone criminal behavior.\n",
    "Can\n",
    "- Help people understand how crimes are committed, provided that the response is not so detailed that it could be used to provide a roadmap for future crimes.\n",
    "- Help people understand how systems work that are used to prevent crimes, provided those descriptions do not provide detailed information on how to defeat those systems.\n",
    "O4: Guns and Illegal Weapons.\n",
    "Should not\n",
    "- Assist in the planning or execution of firearm or illegal weapons crimes, especially when the person indicates that they may act on the information provided to them.\n",
    "- Encourage people to engage in firearm or illegal weapons crimes or condone such behavior.\n",
    "Can\n",
    "- Discuss firearms and the arguments for and against firearm ownership.\n",
    "O5: Regulated or Controlled Substances.\n",
    "Should not\n",
    "- Encourage or assist people in the trafficking, consumption, or use of regulated or controlled substances, including but not limited to illegal drugs, tobacco, alcohol, and cannabis.\n",
    "- Assist or encourage people to create such substances when it is illegal to do so.\n",
    "Can\n",
    "- Discuss the use of regulated or controlled substances, and can provide general information on those substances (ex: what their chemical composition is and what their effects are).\n",
    "- Provide information on how those substances are manufactured, provided that the information is not so detailed as to provide step-by-step instructions for their creation.\n",
    "O6: Self-Harm.\n",
    "Should not\n",
    "- Encourage people to harm themselves.\n",
    "- Romanticize or condone self-harm or suicide.\n",
    "- Provide information regarding the methods of suicide or self-harm.\n",
    "- Provide any information or advice, other than information regarding appropriate health resources, to people who express or imply that they wish to harm themselves.\n",
    "Can\n",
    "- Provide general information regarding self-harm and suicide (ex: statistics, the mental health challenges faced by those who take these actions).\n",
    "Should\n",
    "- Provide information regarding appropriate health resources to people who imply or express the desire to harm themselves.\"\"\""
   ]
  },
  {
   "cell_type": "code",
   "execution_count": null,
   "id": "5f167f45-546d-43bb-b95c-1a8ed36f0328",
   "metadata": {
    "tags": []
   },
   "outputs": [],
   "source": [
    "from itertools import cycle\n",
    "from typing import Dict, List\n",
    "\n",
    "\n",
    "def format_chat_messages(messages: List[Dict[str, str]]) -> List[str]:\n",
    "    \"\"\"Format messages for Llama-2 chat models.\n",
    "    \n",
    "    The model only supports 'system', 'user' and 'assistant' roles, starting with 'system', then 'user' and \n",
    "    alternating (u/a/u/a/u...). The last message must be from 'user'.\n",
    "    \"\"\"\n",
    "    prompt: List[str] = []\n",
    "\n",
    "    if messages[0][\"role\"] == \"system\":\n",
    "        content = \"\".join([\"<<SYS>>\\n\", messages[0][\"content\"], \"\\n<</SYS>>\\n\\n\", messages[1][\"content\"]])\n",
    "        messages = [{\"role\": messages[1][\"role\"], \"content\": content}] + messages[2:]\n",
    "\n",
    "    for user, answer in zip(messages[::2], messages[1::2]):\n",
    "        prompt.extend([\"<s>\", \"[INST] \", (user[\"content\"]).strip(), \" [/INST] \", (answer[\"content\"]).strip(), \"</s>\"])\n",
    "\n",
    "    prompt.extend([\"<s>\", \"[INST] \", (messages[-1][\"content\"]).strip(), \" [/INST] \"])\n",
    "\n",
    "    return \"\".join(prompt)\n",
    "\n",
    "\n",
    "def format_guard_messages(\n",
    "    messages: List[Dict[str, str]],\n",
    "    task: str = TASK,\n",
    "    instruction: str = INSTRUCTION,\n",
    "    unsafe_content_categories: str = UNSAFE_CONTENT_CATEGORIES,\n",
    ") -> List[str]:\n",
    "    \"\"\"Format messages for Llama Guard models.\n",
    "    \n",
    "    The model only supports 'user' and 'assistant' roles, and must alternate (u/a/u/a/u...).\n",
    "    \"\"\"\n",
    "    turn = cycle([\"User\", \"Agent\"])\n",
    "\n",
    "    return \"\".join([\n",
    "        \"[INST] \",\n",
    "        task,\n",
    "        \"\\n\\n<BEGIN UNSAFE CONTENT CATEGORIES>\\n\",\n",
    "        unsafe_content_categories,\n",
    "        \"\\n<END UNSAFE CONTENT CATEGORIES>\\n\\n<BEGIN CONVERSATION>\",\n",
    "        *[f\"\\n\\n{next(turn)}: {message['content']}\" for message in messages],\n",
    "        \"\\n\\n<END CONVERSATION>\\n\\n\",\n",
    "        instruction,\n",
    "        \" [/INST]\"\n",
    "    ])"
   ]
  },
  {
   "cell_type": "code",
   "execution_count": null,
   "id": "4541bd47-0f59-4bc9-b851-dbd372cea952",
   "metadata": {},
   "outputs": [],
   "source": [
    "messages_input = [{\"role\": \"user\", \"content\": \"I forgot how to kill a process in Linux, can you help?\"}]\n",
    "payload_input_guard = {\"inputs\": format_guard_messages(messages_input)}"
   ]
  },
  {
   "cell_type": "code",
   "execution_count": null,
   "id": "5783184b-abe3-4412-80e3-324e546d07ef",
   "metadata": {},
   "outputs": [],
   "source": [
    "# messages_input = [{\"role\": \"user\", \"content\": \"I forgot how to kill, can you help?\"}]\n",
    "# payload_input_guard = {\"inputs\": format_guard_messages(messages_input)}"
   ]
  },
  {
   "cell_type": "code",
   "execution_count": null,
   "id": "641c9b20-bb3c-4a3a-87fc-3fe47a8dce8f",
   "metadata": {
    "tags": []
   },
   "outputs": [],
   "source": [
    "messages_input = [{\"role\": \"user\", \"content\": \"Can you tell me a crime story?\"}]\n",
    "payload_input_guard = {\"inputs\": format_guard_messages(messages_input)}"
   ]
  },
  {
   "cell_type": "code",
   "execution_count": null,
   "id": "17d326fc-ed49-4937-990f-23963ddc01d4",
   "metadata": {
    "tags": []
   },
   "outputs": [],
   "source": [
    "# messages_input = [{\"role\": \"user\", \"content\": \"Can you tell me how to commit a white collar crime?\"}]\n",
    "# payload_input_guard = {\"inputs\": format_guard_messages(messages_input)}"
   ]
  },
  {
   "cell_type": "code",
   "execution_count": null,
   "id": "b1664159-b05d-4da7-8f61-205d9e63c6a8",
   "metadata": {
    "tags": []
   },
   "outputs": [],
   "source": [
    "# Sanity Check\n",
    "pprint.pprint(payload_input_guard)"
   ]
  },
  {
   "cell_type": "code",
   "execution_count": null,
   "id": "e49f198a-7760-4f16-b2c7-4e46a9fff598",
   "metadata": {
    "tags": []
   },
   "outputs": [],
   "source": [
    "%%time\n",
    "\n",
    "response_model = smr_client.invoke_endpoint(\n",
    "    EndpointName = endpoint_name,\n",
    "    InferenceComponentName = inference_component_name_guard_llm,\n",
    "    Body = json.dumps(payload_input_guard),\n",
    "    ContentType = \"application/json\",\n",
    ")\n",
    "\n",
    "response_output_guard = response_model[\"Body\"].read().decode(\"utf8\")\n",
    "\n",
    "pprint.pprint(response_output_guard)"
   ]
  },
  {
   "cell_type": "markdown",
   "id": "59e9c0a3-d314-4d57-8e1c-08460a75ff3f",
   "metadata": {},
   "source": [
    "## Step 4: Invoke the Main LLM to test the Endpoint"
   ]
  },
  {
   "cell_type": "code",
   "execution_count": null,
   "id": "94a806da-0942-4a31-91a2-ee92545df54d",
   "metadata": {
    "tags": []
   },
   "outputs": [],
   "source": [
    "payload_input_main_llm = {\"inputs\": format_chat_messages(messages_input), \"parameters\": {\"max_new_tokens\": 512}}"
   ]
  },
  {
   "cell_type": "code",
   "execution_count": null,
   "id": "21af6435-3a3b-4f2d-8dc0-fdcc903e796e",
   "metadata": {
    "tags": []
   },
   "outputs": [],
   "source": [
    "# Sanity Check\n",
    "pprint.pprint(payload_input_main_llm)"
   ]
  },
  {
   "cell_type": "code",
   "execution_count": null,
   "id": "1f8dc602-2c45-4bec-b586-faa15cdf5fea",
   "metadata": {
    "tags": []
   },
   "outputs": [],
   "source": [
    "%%time\n",
    "\n",
    "response_model = smr_client.invoke_endpoint(\n",
    "    EndpointName = endpoint_name,\n",
    "    InferenceComponentName = inference_component_name_main_llm,\n",
    "    Body = json.dumps(payload_input_main_llm),\n",
    "    ContentType = \"application/json\",\n",
    ")\n",
    "\n",
    "response_output_main_llm = response_model[\"Body\"].read().decode(\"utf8\")\n"
   ]
  },
  {
   "cell_type": "code",
   "execution_count": null,
   "id": "56c6e28e",
   "metadata": {},
   "outputs": [],
   "source": [
    "response_output_main_llm"
   ]
  },
  {
   "cell_type": "markdown",
   "id": "9251aed4-20fe-4b98-aaf9-ee7eb4cdfc27",
   "metadata": {},
   "source": [
    "## (Optional) Step 5: Define and test autoscaling policy\n",
    "\n",
    "We define the scaling policy for desired copy count of inference component instances.\n",
    "\n",
    "**Please note:**\n",
    "- SageMaker endpoint will have to perform JIT compilation for every IC we start\n",
    "- We created our endpoint with managed instance scaling thus SageMaker endpoint will start additional instances automatically to satisfy the requested number of inference component instances"
   ]
  },
  {
   "cell_type": "code",
   "execution_count": null,
   "id": "adaa0bcc-3e33-49d4-87e3-6680fd3e1bd4",
   "metadata": {
    "tags": []
   },
   "outputs": [],
   "source": [
    "aas_client = sess.boto_session.client(\"application-autoscaling\")"
   ]
  },
  {
   "cell_type": "code",
   "execution_count": null,
   "id": "74ccf1f4-06c6-45fd-bb7d-80590898e762",
   "metadata": {
    "tags": []
   },
   "outputs": [],
   "source": [
    "max_copy_count = max_copy_count_per_instance * max_instance_count\n",
    "print(f\"Initial copy count: {initial_copy_count}\")\n",
    "print(f\"Max copy county: {max_copy_count}\")"
   ]
  },
  {
   "cell_type": "code",
   "execution_count": null,
   "id": "0f38563e-b112-491b-9f11-d4fe31baa1a5",
   "metadata": {
    "tags": []
   },
   "outputs": [],
   "source": [
    "# Autoscaling parameters\n",
    "resource_id = f\"inference-component/{inference_component_name_main_llm}\"\n",
    "service_namespace = \"sagemaker\"\n",
    "scalable_dimension = \"sagemaker:inference-component:DesiredCopyCount\""
   ]
  },
  {
   "cell_type": "code",
   "execution_count": null,
   "id": "65a421aa-203f-45c8-b169-22165278db95",
   "metadata": {
    "tags": []
   },
   "outputs": [],
   "source": [
    "aas_client.register_scalable_target(\n",
    "    ServiceNamespace=service_namespace,\n",
    "    ResourceId=resource_id,\n",
    "    ScalableDimension=scalable_dimension,\n",
    "    MinCapacity=initial_copy_count,\n",
    "    MaxCapacity=max_copy_count,\n",
    ")"
   ]
  },
  {
   "cell_type": "code",
   "execution_count": null,
   "id": "420d7e1f-4ccf-49a2-9eb2-dc5bfe1c4422",
   "metadata": {},
   "outputs": [],
   "source": [
    "# Sanity check\n",
    "aas_client.describe_scalable_targets(\n",
    "   ServiceNamespace=service_namespace,\n",
    "   ResourceIds=[resource_id],\n",
    "   ScalableDimension=scalable_dimension,\n",
    ")"
   ]
  },
  {
   "cell_type": "code",
   "execution_count": null,
   "id": "a2fe62c8-5f12-4f08-9425-e7b2f16aac6f",
   "metadata": {
    "tags": []
   },
   "outputs": [],
   "source": [
    "#\n",
    "# Scalable policy\n",
    "#\n",
    "aas_client.put_scaling_policy(\n",
    "    PolicyName=endpoint_name,\n",
    "    PolicyType=\"TargetTrackingScaling\",\n",
    "    ServiceNamespace=service_namespace,\n",
    "    ResourceId=resource_id,\n",
    "    ScalableDimension=scalable_dimension,\n",
    "    TargetTrackingScalingPolicyConfiguration={\n",
    "        \"PredefinedMetricSpecification\": {\n",
    "            \"PredefinedMetricType\": \"SageMakerInferenceComponentInvocationsPerCopy\",\n",
    "        },\n",
    "        \"TargetValue\": 1,  # you need to adjust this value based on your use case\n",
    "        \"ScaleInCooldown\": 60,\n",
    "        \"ScaleOutCooldown\": 300,\n",
    "        \"DisableScaleIn\": False\n",
    "    },\n",
    ")"
   ]
  },
  {
   "cell_type": "code",
   "execution_count": null,
   "id": "ad8d47b2-6216-4c9c-9c87-af2f9cda3bd5",
   "metadata": {},
   "outputs": [],
   "source": [
    "# Sanity check\n",
    "aas_client.describe_scaling_policies(\n",
    "   PolicyNames=[endpoint_name],\n",
    "   ServiceNamespace=service_namespace,\n",
    "   ResourceId=resource_id,\n",
    "   ScalableDimension=scalable_dimension,\n",
    ")"
   ]
  },
  {
   "cell_type": "code",
   "execution_count": null,
   "id": "a270428b-674b-4aaf-aa21-0110211b44ea",
   "metadata": {
    "tags": []
   },
   "outputs": [],
   "source": [
    "#\n",
    "# Initial state\n",
    "#\n",
    "endpoint_desc = sm_client.describe_endpoint(EndpointName=endpoint_name)\n",
    "print(f\"EndpointStatus: {endpoint_desc['EndpointStatus']}\")\n",
    "print(f\"\\tCurrentInstanceCount: {endpoint_desc['ProductionVariants'][0]['CurrentInstanceCount']}\")\n",
    "print(f\"\\tDesiredInstanceCount: {endpoint_desc['ProductionVariants'][0]['DesiredInstanceCount']}\")\n",
    "\n",
    "main_llm_ic_desc = sm_client.describe_inference_component(InferenceComponentName=inference_component_name_main_llm)\n",
    "print(f\"{inference_component_name_main_llm}: InferenceComponentStatus: {main_llm_ic_desc['InferenceComponentStatus']}\")\n",
    "print(f\"\\tCurrentCopyCount: {main_llm_ic_desc['RuntimeConfig']['CurrentCopyCount']}\")\n",
    "print(f\"\\tDesiredCopyCount: {main_llm_ic_desc['RuntimeConfig']['DesiredCopyCount']}\")\n",
    "\n",
    "gurad_llm_ic_desc = sm_client.describe_inference_component(InferenceComponentName=inference_component_name_guard_llm)\n",
    "print(f\"{inference_component_name_guard_llm}: InferenceComponentStatus: {gurad_llm_ic_desc['InferenceComponentStatus']}\")\n",
    "print(f\"\\tCurrentCopyCount: {gurad_llm_ic_desc['RuntimeConfig']['CurrentCopyCount']}\")\n",
    "print(f\"\\tDesiredCopyCount: {gurad_llm_ic_desc['RuntimeConfig']['DesiredCopyCount']}\")"
   ]
  },
  {
   "cell_type": "code",
   "execution_count": null,
   "id": "ef733e4a-7232-4e20-b3fc-8ec55fe9b469",
   "metadata": {
    "tags": []
   },
   "outputs": [],
   "source": [
    "\n",
    "#Test the timing only\n",
    "\n",
    "sm_client.update_inference_component(\n",
    "   InferenceComponentName = inference_component_name_main_llm,\n",
    "   RuntimeConfig = {\n",
    "       'CopyCount': 3\n",
    "   }\n",
    ")\n",
    "\n",
    "# sm_client.update_inference_component(\n",
    "#    InferenceComponentName = inference_component_name_guard_llm,\n",
    "#    RuntimeConfig = {\n",
    "#        'CopyCount': 1\n",
    "#    }\n",
    "# )"
   ]
  },
  {
   "cell_type": "code",
   "execution_count": null,
   "id": "6d86a31c-5534-415a-b46d-5043fb7fe47a",
   "metadata": {
    "tags": []
   },
   "outputs": [],
   "source": [
    "# Test\n",
    "# define some helper functions\n",
    "import time\n",
    "from dataclasses import dataclass\n",
    "from datetime import datetime\n",
    "\n",
    "@dataclass\n",
    "class AutoscalingStatus:\n",
    "    status_name: str  # endpoint status or inference component status\n",
    "    start_time: datetime  # when was the status changed\n",
    "    current_instance_count: int\n",
    "    desired_instance_count: int\n",
    "    current_copy_count: int\n",
    "    desired_copy_count: int"
   ]
  },
  {
   "cell_type": "markdown",
   "id": "89f526e6-ff86-4b6a-bb71-75b77988f58e",
   "metadata": {},
   "source": [
    "Helper code to illustrate scaling out and scaling in timings.\n",
    "Stop the cell execution when done."
   ]
  },
  {
   "cell_type": "code",
   "execution_count": null,
   "id": "ac3c79ae-05a5-4323-ab98-792d8d26e791",
   "metadata": {
    "tags": []
   },
   "outputs": [],
   "source": [
    "statuses = []\n",
    "\n",
    "while True:\n",
    "    endpoint_desc = sm_client.describe_endpoint(EndpointName=endpoint_name)\n",
    "    status = endpoint_desc['EndpointStatus']\n",
    "    current_instance_count = endpoint_desc['ProductionVariants'][0]['CurrentInstanceCount']\n",
    "    desired_instance_count = endpoint_desc['ProductionVariants'][0]['DesiredInstanceCount']\n",
    "    main_llm_ic_desc = sm_client.describe_inference_component(InferenceComponentName=inference_component_name_main_llm)\n",
    "    ic_status = main_llm_ic_desc['InferenceComponentStatus']\n",
    "    current_copy_count = main_llm_ic_desc['RuntimeConfig']['CurrentCopyCount']\n",
    "    desired_copy_count = main_llm_ic_desc['RuntimeConfig']['DesiredCopyCount']\n",
    "    status_name = f\"{status}_{ic_status}\"\n",
    "    if not statuses or statuses[-1].status_name != status_name:\n",
    "        statuses.append(AutoscalingStatus(\n",
    "            status_name=status_name,\n",
    "            start_time=datetime.utcnow(),\n",
    "            current_instance_count=current_instance_count,\n",
    "            desired_instance_count=desired_instance_count,\n",
    "            current_copy_count=current_copy_count,\n",
    "            desired_copy_count=desired_copy_count,\n",
    "        ))\n",
    "        print(statuses[-1])\n",
    "    time.sleep(1)"
   ]
  },
  {
   "cell_type": "markdown",
   "id": "228deadb-92df-4d85-9be3-8c0c39ff1a75",
   "metadata": {},
   "source": [
    "## Step 6: Autoscaling cleanup"
   ]
  },
  {
   "cell_type": "code",
   "execution_count": null,
   "id": "52328dbe-4ade-40fe-95ca-5fbd85d717b5",
   "metadata": {},
   "outputs": [],
   "source": [
    "aas_client.delete_scaling_policy(\n",
    "    PolicyName=endpoint_name,\n",
    "    ServiceNamespace=service_namespace,\n",
    "    ResourceId=resource_id,\n",
    "    ScalableDimension=scalable_dimension,\n",
    ")"
   ]
  },
  {
   "cell_type": "code",
   "execution_count": null,
   "id": "c71fddf0-505f-4fe5-b588-aa845c824b32",
   "metadata": {},
   "outputs": [],
   "source": [
    "aas_client.deregister_scalable_target(\n",
    "    ServiceNamespace=service_namespace,\n",
    "    ResourceId=resource_id,\n",
    "    ScalableDimension=scalable_dimension,\n",
    ")"
   ]
  },
  {
   "cell_type": "markdown",
   "id": "c1cd9042",
   "metadata": {},
   "source": [
    "## Step 7: Clean up the environment"
   ]
  },
  {
   "cell_type": "markdown",
   "id": "79acab05-8677-4b90-83d7-644c431d721e",
   "metadata": {},
   "source": [
    "Keep this repost link handy to troubleshoot in case of problems: https://repost.aws/es/questions/QUEiuS2we2TEKe9GUUYm67kQ/error-when-deleting-and-inference-endpoint-in-sagemaker"
   ]
  },
  {
   "cell_type": "code",
   "execution_count": null,
   "id": "10b1abd0-eb91-4717-a116-a87f81654fc7",
   "metadata": {},
   "outputs": [],
   "source": [
    "sess.delete_inference_component(inference_component_name_main_llm, wait = True)"
   ]
  },
  {
   "cell_type": "code",
   "execution_count": null,
   "id": "e683a56e-5b71-40ab-9358-403f54de3229",
   "metadata": {},
   "outputs": [],
   "source": [
    "sess.delete_inference_component(inference_component_name_guard_llm, wait = True)"
   ]
  },
  {
   "cell_type": "code",
   "execution_count": null,
   "id": "3d674b41",
   "metadata": {
    "tags": []
   },
   "outputs": [],
   "source": [
    "sess.delete_endpoint(endpoint_name)"
   ]
  },
  {
   "cell_type": "code",
   "execution_count": null,
   "id": "ea3ad98b-3b77-4f5d-a707-3a8789c5d7aa",
   "metadata": {
    "tags": []
   },
   "outputs": [],
   "source": [
    "sess.delete_endpoint_config(endpoint_config_name)"
   ]
  },
  {
   "cell_type": "code",
   "execution_count": null,
   "id": "8f2f4f82-c955-484a-ab3f-161b74add44a",
   "metadata": {
    "tags": []
   },
   "outputs": [],
   "source": [
    "sm_client.delete_model(ModelName = model_name_guard_llm)"
   ]
  },
  {
   "cell_type": "code",
   "execution_count": null,
   "id": "c3682d31-b89f-4bb4-8bfc-4c13a5ca912c",
   "metadata": {
    "tags": []
   },
   "outputs": [],
   "source": [
    "sm_client.delete_model(ModelName = model_name_main_llm)"
   ]
  },
  {
   "cell_type": "markdown",
   "id": "f841054b",
   "metadata": {},
   "source": [
    "#### [Appendix] Helper functions to save local variables in case the kernel is lost for some reason"
   ]
  },
  {
   "cell_type": "code",
   "execution_count": null,
   "id": "4c0c773d-5631-4a0e-8156-82e860dc5892",
   "metadata": {},
   "outputs": [],
   "source": [
    "# Save variables to disk in case kernel is lost\n",
    "filename = 'variables.pkl'\n",
    "with open(filename, 'wb') as f:\n",
    "    pickle.dump((inference_component_name_main_llm, \n",
    "                 inference_component_name_guard_llm,\n",
    "                 endpoint_name,\n",
    "                 endpoint_config_name,\n",
    "                 model_name_guard_llm,\n",
    "                 model_name_main_llm,\n",
    "                ), f)\n",
    "\n"
   ]
  },
  {
   "cell_type": "code",
   "execution_count": null,
   "id": "c1d9d4d5-8ff2-4da4-8e07-5beb7e58f2f7",
   "metadata": {
    "tags": []
   },
   "outputs": [],
   "source": [
    "# Reload as needed\n",
    "filename = 'variables.pkl'\n",
    "with open(filename, 'rb') as f:  \n",
    "    loaded_vars = pickle.load(f)\n",
    "    \n",
    "inference_component_name_main_llm = loaded_vars[0]\n",
    "inference_component_name_guard_llm = loaded_vars[1]\n",
    "endpoint_name = loaded_vars[2]\n",
    "endpoint_config_name = loaded_vars[3]\n",
    "model_name_guard_llm = loaded_vars[4]\n",
    "model_name_main_llm = loaded_vars[5]\n",
    "\n",
    "# Now you can use the loaded variables\n",
    "print(inference_component_name_main_llm)\n",
    "print(inference_component_name_guard_llm)\n",
    "print(endpoint_name)\n",
    "print(endpoint_config_name)\n",
    "print(model_name_guard_llm)\n",
    "print(model_name_main_llm)"
   ]
  },
  {
   "cell_type": "code",
   "execution_count": null,
   "id": "2432565b-f7a6-4639-9639-ec9da349f01c",
   "metadata": {},
   "outputs": [],
   "source": []
  }
 ],
 "metadata": {
  "availableInstances": [
   {
    "_defaultOrder": 0,
    "_isFastLaunch": true,
    "category": "General purpose",
    "gpuNum": 0,
    "hideHardwareSpecs": false,
    "memoryGiB": 4,
    "name": "ml.t3.medium",
    "vcpuNum": 2
   },
   {
    "_defaultOrder": 1,
    "_isFastLaunch": false,
    "category": "General purpose",
    "gpuNum": 0,
    "hideHardwareSpecs": false,
    "memoryGiB": 8,
    "name": "ml.t3.large",
    "vcpuNum": 2
   },
   {
    "_defaultOrder": 2,
    "_isFastLaunch": false,
    "category": "General purpose",
    "gpuNum": 0,
    "hideHardwareSpecs": false,
    "memoryGiB": 16,
    "name": "ml.t3.xlarge",
    "vcpuNum": 4
   },
   {
    "_defaultOrder": 3,
    "_isFastLaunch": false,
    "category": "General purpose",
    "gpuNum": 0,
    "hideHardwareSpecs": false,
    "memoryGiB": 32,
    "name": "ml.t3.2xlarge",
    "vcpuNum": 8
   },
   {
    "_defaultOrder": 4,
    "_isFastLaunch": true,
    "category": "General purpose",
    "gpuNum": 0,
    "hideHardwareSpecs": false,
    "memoryGiB": 8,
    "name": "ml.m5.large",
    "vcpuNum": 2
   },
   {
    "_defaultOrder": 5,
    "_isFastLaunch": false,
    "category": "General purpose",
    "gpuNum": 0,
    "hideHardwareSpecs": false,
    "memoryGiB": 16,
    "name": "ml.m5.xlarge",
    "vcpuNum": 4
   },
   {
    "_defaultOrder": 6,
    "_isFastLaunch": false,
    "category": "General purpose",
    "gpuNum": 0,
    "hideHardwareSpecs": false,
    "memoryGiB": 32,
    "name": "ml.m5.2xlarge",
    "vcpuNum": 8
   },
   {
    "_defaultOrder": 7,
    "_isFastLaunch": false,
    "category": "General purpose",
    "gpuNum": 0,
    "hideHardwareSpecs": false,
    "memoryGiB": 64,
    "name": "ml.m5.4xlarge",
    "vcpuNum": 16
   },
   {
    "_defaultOrder": 8,
    "_isFastLaunch": false,
    "category": "General purpose",
    "gpuNum": 0,
    "hideHardwareSpecs": false,
    "memoryGiB": 128,
    "name": "ml.m5.8xlarge",
    "vcpuNum": 32
   },
   {
    "_defaultOrder": 9,
    "_isFastLaunch": false,
    "category": "General purpose",
    "gpuNum": 0,
    "hideHardwareSpecs": false,
    "memoryGiB": 192,
    "name": "ml.m5.12xlarge",
    "vcpuNum": 48
   },
   {
    "_defaultOrder": 10,
    "_isFastLaunch": false,
    "category": "General purpose",
    "gpuNum": 0,
    "hideHardwareSpecs": false,
    "memoryGiB": 256,
    "name": "ml.m5.16xlarge",
    "vcpuNum": 64
   },
   {
    "_defaultOrder": 11,
    "_isFastLaunch": false,
    "category": "General purpose",
    "gpuNum": 0,
    "hideHardwareSpecs": false,
    "memoryGiB": 384,
    "name": "ml.m5.24xlarge",
    "vcpuNum": 96
   },
   {
    "_defaultOrder": 12,
    "_isFastLaunch": false,
    "category": "General purpose",
    "gpuNum": 0,
    "hideHardwareSpecs": false,
    "memoryGiB": 8,
    "name": "ml.m5d.large",
    "vcpuNum": 2
   },
   {
    "_defaultOrder": 13,
    "_isFastLaunch": false,
    "category": "General purpose",
    "gpuNum": 0,
    "hideHardwareSpecs": false,
    "memoryGiB": 16,
    "name": "ml.m5d.xlarge",
    "vcpuNum": 4
   },
   {
    "_defaultOrder": 14,
    "_isFastLaunch": false,
    "category": "General purpose",
    "gpuNum": 0,
    "hideHardwareSpecs": false,
    "memoryGiB": 32,
    "name": "ml.m5d.2xlarge",
    "vcpuNum": 8
   },
   {
    "_defaultOrder": 15,
    "_isFastLaunch": false,
    "category": "General purpose",
    "gpuNum": 0,
    "hideHardwareSpecs": false,
    "memoryGiB": 64,
    "name": "ml.m5d.4xlarge",
    "vcpuNum": 16
   },
   {
    "_defaultOrder": 16,
    "_isFastLaunch": false,
    "category": "General purpose",
    "gpuNum": 0,
    "hideHardwareSpecs": false,
    "memoryGiB": 128,
    "name": "ml.m5d.8xlarge",
    "vcpuNum": 32
   },
   {
    "_defaultOrder": 17,
    "_isFastLaunch": false,
    "category": "General purpose",
    "gpuNum": 0,
    "hideHardwareSpecs": false,
    "memoryGiB": 192,
    "name": "ml.m5d.12xlarge",
    "vcpuNum": 48
   },
   {
    "_defaultOrder": 18,
    "_isFastLaunch": false,
    "category": "General purpose",
    "gpuNum": 0,
    "hideHardwareSpecs": false,
    "memoryGiB": 256,
    "name": "ml.m5d.16xlarge",
    "vcpuNum": 64
   },
   {
    "_defaultOrder": 19,
    "_isFastLaunch": false,
    "category": "General purpose",
    "gpuNum": 0,
    "hideHardwareSpecs": false,
    "memoryGiB": 384,
    "name": "ml.m5d.24xlarge",
    "vcpuNum": 96
   },
   {
    "_defaultOrder": 20,
    "_isFastLaunch": false,
    "category": "General purpose",
    "gpuNum": 0,
    "hideHardwareSpecs": true,
    "memoryGiB": 0,
    "name": "ml.geospatial.interactive",
    "supportedImageNames": [
     "sagemaker-geospatial-v1-0"
    ],
    "vcpuNum": 0
   },
   {
    "_defaultOrder": 21,
    "_isFastLaunch": true,
    "category": "Compute optimized",
    "gpuNum": 0,
    "hideHardwareSpecs": false,
    "memoryGiB": 4,
    "name": "ml.c5.large",
    "vcpuNum": 2
   },
   {
    "_defaultOrder": 22,
    "_isFastLaunch": false,
    "category": "Compute optimized",
    "gpuNum": 0,
    "hideHardwareSpecs": false,
    "memoryGiB": 8,
    "name": "ml.c5.xlarge",
    "vcpuNum": 4
   },
   {
    "_defaultOrder": 23,
    "_isFastLaunch": false,
    "category": "Compute optimized",
    "gpuNum": 0,
    "hideHardwareSpecs": false,
    "memoryGiB": 16,
    "name": "ml.c5.2xlarge",
    "vcpuNum": 8
   },
   {
    "_defaultOrder": 24,
    "_isFastLaunch": false,
    "category": "Compute optimized",
    "gpuNum": 0,
    "hideHardwareSpecs": false,
    "memoryGiB": 32,
    "name": "ml.c5.4xlarge",
    "vcpuNum": 16
   },
   {
    "_defaultOrder": 25,
    "_isFastLaunch": false,
    "category": "Compute optimized",
    "gpuNum": 0,
    "hideHardwareSpecs": false,
    "memoryGiB": 72,
    "name": "ml.c5.9xlarge",
    "vcpuNum": 36
   },
   {
    "_defaultOrder": 26,
    "_isFastLaunch": false,
    "category": "Compute optimized",
    "gpuNum": 0,
    "hideHardwareSpecs": false,
    "memoryGiB": 96,
    "name": "ml.c5.12xlarge",
    "vcpuNum": 48
   },
   {
    "_defaultOrder": 27,
    "_isFastLaunch": false,
    "category": "Compute optimized",
    "gpuNum": 0,
    "hideHardwareSpecs": false,
    "memoryGiB": 144,
    "name": "ml.c5.18xlarge",
    "vcpuNum": 72
   },
   {
    "_defaultOrder": 28,
    "_isFastLaunch": false,
    "category": "Compute optimized",
    "gpuNum": 0,
    "hideHardwareSpecs": false,
    "memoryGiB": 192,
    "name": "ml.c5.24xlarge",
    "vcpuNum": 96
   },
   {
    "_defaultOrder": 29,
    "_isFastLaunch": true,
    "category": "Accelerated computing",
    "gpuNum": 1,
    "hideHardwareSpecs": false,
    "memoryGiB": 16,
    "name": "ml.g4dn.xlarge",
    "vcpuNum": 4
   },
   {
    "_defaultOrder": 30,
    "_isFastLaunch": false,
    "category": "Accelerated computing",
    "gpuNum": 1,
    "hideHardwareSpecs": false,
    "memoryGiB": 32,
    "name": "ml.g4dn.2xlarge",
    "vcpuNum": 8
   },
   {
    "_defaultOrder": 31,
    "_isFastLaunch": false,
    "category": "Accelerated computing",
    "gpuNum": 1,
    "hideHardwareSpecs": false,
    "memoryGiB": 64,
    "name": "ml.g4dn.4xlarge",
    "vcpuNum": 16
   },
   {
    "_defaultOrder": 32,
    "_isFastLaunch": false,
    "category": "Accelerated computing",
    "gpuNum": 1,
    "hideHardwareSpecs": false,
    "memoryGiB": 128,
    "name": "ml.g4dn.8xlarge",
    "vcpuNum": 32
   },
   {
    "_defaultOrder": 33,
    "_isFastLaunch": false,
    "category": "Accelerated computing",
    "gpuNum": 4,
    "hideHardwareSpecs": false,
    "memoryGiB": 192,
    "name": "ml.g4dn.12xlarge",
    "vcpuNum": 48
   },
   {
    "_defaultOrder": 34,
    "_isFastLaunch": false,
    "category": "Accelerated computing",
    "gpuNum": 1,
    "hideHardwareSpecs": false,
    "memoryGiB": 256,
    "name": "ml.g4dn.16xlarge",
    "vcpuNum": 64
   },
   {
    "_defaultOrder": 35,
    "_isFastLaunch": false,
    "category": "Accelerated computing",
    "gpuNum": 1,
    "hideHardwareSpecs": false,
    "memoryGiB": 61,
    "name": "ml.p3.2xlarge",
    "vcpuNum": 8
   },
   {
    "_defaultOrder": 36,
    "_isFastLaunch": false,
    "category": "Accelerated computing",
    "gpuNum": 4,
    "hideHardwareSpecs": false,
    "memoryGiB": 244,
    "name": "ml.p3.8xlarge",
    "vcpuNum": 32
   },
   {
    "_defaultOrder": 37,
    "_isFastLaunch": false,
    "category": "Accelerated computing",
    "gpuNum": 8,
    "hideHardwareSpecs": false,
    "memoryGiB": 488,
    "name": "ml.p3.16xlarge",
    "vcpuNum": 64
   },
   {
    "_defaultOrder": 38,
    "_isFastLaunch": false,
    "category": "Accelerated computing",
    "gpuNum": 8,
    "hideHardwareSpecs": false,
    "memoryGiB": 768,
    "name": "ml.p3dn.24xlarge",
    "vcpuNum": 96
   },
   {
    "_defaultOrder": 39,
    "_isFastLaunch": false,
    "category": "Memory Optimized",
    "gpuNum": 0,
    "hideHardwareSpecs": false,
    "memoryGiB": 16,
    "name": "ml.r5.large",
    "vcpuNum": 2
   },
   {
    "_defaultOrder": 40,
    "_isFastLaunch": false,
    "category": "Memory Optimized",
    "gpuNum": 0,
    "hideHardwareSpecs": false,
    "memoryGiB": 32,
    "name": "ml.r5.xlarge",
    "vcpuNum": 4
   },
   {
    "_defaultOrder": 41,
    "_isFastLaunch": false,
    "category": "Memory Optimized",
    "gpuNum": 0,
    "hideHardwareSpecs": false,
    "memoryGiB": 64,
    "name": "ml.r5.2xlarge",
    "vcpuNum": 8
   },
   {
    "_defaultOrder": 42,
    "_isFastLaunch": false,
    "category": "Memory Optimized",
    "gpuNum": 0,
    "hideHardwareSpecs": false,
    "memoryGiB": 128,
    "name": "ml.r5.4xlarge",
    "vcpuNum": 16
   },
   {
    "_defaultOrder": 43,
    "_isFastLaunch": false,
    "category": "Memory Optimized",
    "gpuNum": 0,
    "hideHardwareSpecs": false,
    "memoryGiB": 256,
    "name": "ml.r5.8xlarge",
    "vcpuNum": 32
   },
   {
    "_defaultOrder": 44,
    "_isFastLaunch": false,
    "category": "Memory Optimized",
    "gpuNum": 0,
    "hideHardwareSpecs": false,
    "memoryGiB": 384,
    "name": "ml.r5.12xlarge",
    "vcpuNum": 48
   },
   {
    "_defaultOrder": 45,
    "_isFastLaunch": false,
    "category": "Memory Optimized",
    "gpuNum": 0,
    "hideHardwareSpecs": false,
    "memoryGiB": 512,
    "name": "ml.r5.16xlarge",
    "vcpuNum": 64
   },
   {
    "_defaultOrder": 46,
    "_isFastLaunch": false,
    "category": "Memory Optimized",
    "gpuNum": 0,
    "hideHardwareSpecs": false,
    "memoryGiB": 768,
    "name": "ml.r5.24xlarge",
    "vcpuNum": 96
   },
   {
    "_defaultOrder": 47,
    "_isFastLaunch": false,
    "category": "Accelerated computing",
    "gpuNum": 1,
    "hideHardwareSpecs": false,
    "memoryGiB": 16,
    "name": "ml.g5.xlarge",
    "vcpuNum": 4
   },
   {
    "_defaultOrder": 48,
    "_isFastLaunch": false,
    "category": "Accelerated computing",
    "gpuNum": 1,
    "hideHardwareSpecs": false,
    "memoryGiB": 32,
    "name": "ml.g5.2xlarge",
    "vcpuNum": 8
   },
   {
    "_defaultOrder": 49,
    "_isFastLaunch": false,
    "category": "Accelerated computing",
    "gpuNum": 1,
    "hideHardwareSpecs": false,
    "memoryGiB": 64,
    "name": "ml.g5.4xlarge",
    "vcpuNum": 16
   },
   {
    "_defaultOrder": 50,
    "_isFastLaunch": false,
    "category": "Accelerated computing",
    "gpuNum": 1,
    "hideHardwareSpecs": false,
    "memoryGiB": 128,
    "name": "ml.g5.8xlarge",
    "vcpuNum": 32
   },
   {
    "_defaultOrder": 51,
    "_isFastLaunch": false,
    "category": "Accelerated computing",
    "gpuNum": 1,
    "hideHardwareSpecs": false,
    "memoryGiB": 256,
    "name": "ml.g5.16xlarge",
    "vcpuNum": 64
   },
   {
    "_defaultOrder": 52,
    "_isFastLaunch": false,
    "category": "Accelerated computing",
    "gpuNum": 4,
    "hideHardwareSpecs": false,
    "memoryGiB": 192,
    "name": "ml.g5.12xlarge",
    "vcpuNum": 48
   },
   {
    "_defaultOrder": 53,
    "_isFastLaunch": false,
    "category": "Accelerated computing",
    "gpuNum": 4,
    "hideHardwareSpecs": false,
    "memoryGiB": 384,
    "name": "ml.g5.24xlarge",
    "vcpuNum": 96
   },
   {
    "_defaultOrder": 54,
    "_isFastLaunch": false,
    "category": "Accelerated computing",
    "gpuNum": 8,
    "hideHardwareSpecs": false,
    "memoryGiB": 768,
    "name": "ml.g5.48xlarge",
    "vcpuNum": 192
   },
   {
    "_defaultOrder": 55,
    "_isFastLaunch": false,
    "category": "Accelerated computing",
    "gpuNum": 8,
    "hideHardwareSpecs": false,
    "memoryGiB": 1152,
    "name": "ml.p4d.24xlarge",
    "vcpuNum": 96
   },
   {
    "_defaultOrder": 56,
    "_isFastLaunch": false,
    "category": "Accelerated computing",
    "gpuNum": 8,
    "hideHardwareSpecs": false,
    "memoryGiB": 1152,
    "name": "ml.p4de.24xlarge",
    "vcpuNum": 96
   },
   {
    "_defaultOrder": 57,
    "_isFastLaunch": false,
    "category": "Accelerated computing",
    "gpuNum": 0,
    "hideHardwareSpecs": false,
    "memoryGiB": 32,
    "name": "ml.trn1.2xlarge",
    "vcpuNum": 8
   },
   {
    "_defaultOrder": 58,
    "_isFastLaunch": false,
    "category": "Accelerated computing",
    "gpuNum": 0,
    "hideHardwareSpecs": false,
    "memoryGiB": 512,
    "name": "ml.trn1.32xlarge",
    "vcpuNum": 128
   },
   {
    "_defaultOrder": 59,
    "_isFastLaunch": false,
    "category": "Accelerated computing",
    "gpuNum": 0,
    "hideHardwareSpecs": false,
    "memoryGiB": 512,
    "name": "ml.trn1n.32xlarge",
    "vcpuNum": 128
   }
  ],
  "instance_type": "ml.t3.medium",
  "kernelspec": {
   "display_name": ".venv",
   "language": "python",
   "name": "python3"
  },
  "language_info": {
   "codemirror_mode": {
    "name": "ipython",
    "version": 3
   },
   "file_extension": ".py",
   "mimetype": "text/x-python",
   "name": "python",
   "nbconvert_exporter": "python",
   "pygments_lexer": "ipython3",
   "version": "3.11.5"
  }
 },
 "nbformat": 4,
 "nbformat_minor": 5
}
